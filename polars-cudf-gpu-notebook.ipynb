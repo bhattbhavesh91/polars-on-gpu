{
  "nbformat": 4,
  "nbformat_minor": 0,
  "metadata": {
    "colab": {
      "provenance": [],
      "gpuType": "T4"
    },
    "kernelspec": {
      "name": "python3",
      "display_name": "Python 3"
    },
    "language_info": {
      "name": "python"
    },
    "accelerator": "GPU"
  },
  "cells": [
    {
      "cell_type": "markdown",
      "source": [
        "## Installation"
      ],
      "metadata": {
        "id": "BIbmoh1ftfFV"
      }
    },
    {
      "cell_type": "code",
      "source": [
        "!nvidia-smi"
      ],
      "metadata": {
        "id": "23x0SfVIt7jK",
        "colab": {
          "base_uri": "https://localhost:8080/"
        },
        "outputId": "9f9a9645-d98b-4ade-b931-79ddbe03d9cf"
      },
      "execution_count": 1,
      "outputs": [
        {
          "output_type": "stream",
          "name": "stdout",
          "text": [
            "Tue Sep 17 04:11:56 2024       \n",
            "+---------------------------------------------------------------------------------------+\n",
            "| NVIDIA-SMI 535.104.05             Driver Version: 535.104.05   CUDA Version: 12.2     |\n",
            "|-----------------------------------------+----------------------+----------------------+\n",
            "| GPU  Name                 Persistence-M | Bus-Id        Disp.A | Volatile Uncorr. ECC |\n",
            "| Fan  Temp   Perf          Pwr:Usage/Cap |         Memory-Usage | GPU-Util  Compute M. |\n",
            "|                                         |                      |               MIG M. |\n",
            "|=========================================+======================+======================|\n",
            "|   0  Tesla T4                       Off | 00000000:00:04.0 Off |                    0 |\n",
            "| N/A   42C    P8              10W /  70W |      0MiB / 15360MiB |      0%      Default |\n",
            "|                                         |                      |                  N/A |\n",
            "+-----------------------------------------+----------------------+----------------------+\n",
            "                                                                                         \n",
            "+---------------------------------------------------------------------------------------+\n",
            "| Processes:                                                                            |\n",
            "|  GPU   GI   CI        PID   Type   Process name                            GPU Memory |\n",
            "|        ID   ID                                                             Usage      |\n",
            "|=======================================================================================|\n",
            "|  No running processes found                                                           |\n",
            "+---------------------------------------------------------------------------------------+\n"
          ]
        }
      ]
    },
    {
      "cell_type": "code",
      "source": [
        "!kaggle datasets download -d robikscube/flight-delay-dataset-20182022"
      ],
      "metadata": {
        "id": "iYBdGKF5drAd",
        "colab": {
          "base_uri": "https://localhost:8080/"
        },
        "outputId": "bac88d6d-09a9-4e4e-a84a-c44cce1c58ac"
      },
      "execution_count": 2,
      "outputs": [
        {
          "output_type": "stream",
          "name": "stdout",
          "text": [
            "Dataset URL: https://www.kaggle.com/datasets/robikscube/flight-delay-dataset-20182022\n",
            "License(s): CC0-1.0\n",
            "Downloading flight-delay-dataset-20182022.zip to /content\n",
            "100% 3.73G/3.73G [00:45<00:00, 112MB/s]\n",
            "100% 3.73G/3.73G [00:45<00:00, 88.6MB/s]\n"
          ]
        }
      ]
    },
    {
      "cell_type": "code",
      "source": [
        "!unzip flight-delay-dataset-20182022.zip"
      ],
      "metadata": {
        "id": "pvCo3Ft_eRLQ",
        "colab": {
          "base_uri": "https://localhost:8080/"
        },
        "outputId": "96bad429-6f5f-4121-89e5-99cab2b1cd18"
      },
      "execution_count": 3,
      "outputs": [
        {
          "output_type": "stream",
          "name": "stdout",
          "text": [
            "Archive:  flight-delay-dataset-20182022.zip\n",
            "  inflating: Airlines.csv            \n",
            "  inflating: Combined_Flights_2018.csv  \n",
            "  inflating: Combined_Flights_2018.parquet  \n",
            "  inflating: Combined_Flights_2019.csv  \n",
            "  inflating: Combined_Flights_2019.parquet  \n",
            "  inflating: Combined_Flights_2020.csv  \n",
            "  inflating: Combined_Flights_2020.parquet  \n",
            "  inflating: Combined_Flights_2021.csv  \n",
            "  inflating: Combined_Flights_2021.parquet  \n",
            "  inflating: Combined_Flights_2022.csv  \n",
            "  inflating: Combined_Flights_2022.parquet  \n",
            "  inflating: raw/Flights_2018_1.csv  \n",
            "  inflating: raw/Flights_2018_10.csv  \n",
            "  inflating: raw/Flights_2018_11.csv  \n",
            "  inflating: raw/Flights_2018_12.csv  \n",
            "  inflating: raw/Flights_2018_2.csv  \n",
            "  inflating: raw/Flights_2018_3.csv  \n",
            "  inflating: raw/Flights_2018_4.csv  \n",
            "  inflating: raw/Flights_2018_5.csv  \n",
            "  inflating: raw/Flights_2018_6.csv  \n",
            "  inflating: raw/Flights_2018_7.csv  \n",
            "  inflating: raw/Flights_2018_8.csv  \n",
            "  inflating: raw/Flights_2018_9.csv  "
          ]
        }
      ]
    },
    {
      "cell_type": "code",
      "source": [
        "!pip install polars==1.5\n",
        "!pip install \"cudf_polars_cu12-24.8.0a433-py3-none-any.whl\" --extra-index-url=https://pypi.anaconda.org/rapidsai-wheels-nightly/simple"
      ],
      "metadata": {
        "id": "undabX1SgX4E",
        "colab": {
          "base_uri": "https://localhost:8080/"
        },
        "outputId": "88e37579-e92e-42a3-9388-de2530db1aab"
      },
      "execution_count": 6,
      "outputs": [
        {
          "output_type": "stream",
          "name": "stdout",
          "text": [
            "Requirement already satisfied: polars==1.5 in /usr/local/lib/python3.10/dist-packages (1.5.0)\n",
            "Looking in indexes: https://pypi.org/simple, https://pypi.anaconda.org/rapidsai-wheels-nightly/simple\n",
            "Processing ./cudf_polars_cu12-24.8.0a433-py3-none-any.whl\n",
            "Collecting cudf-cu12==24.8.*,>=0.0.0a0 (from cudf-polars-cu12==24.8.0a433)\n",
            "  Downloading https://pypi.anaconda.org/rapidsai-wheels-nightly/simple/cudf-cu12/24.8.3/cudf_cu12-24.8.3-cp310-cp310-manylinux_2_28_x86_64.whl (517.8 MB)\n",
            "\u001b[2K     \u001b[90m━━━━━━━━━━━━━━━━━━━━━━━━━━━━━━━━━━━━━━━━\u001b[0m \u001b[32m517.8/517.8 MB\u001b[0m \u001b[31m2.3 MB/s\u001b[0m eta \u001b[36m0:00:00\u001b[0m\n",
            "\u001b[?25hRequirement already satisfied: polars>=1.3 in /usr/local/lib/python3.10/dist-packages (from cudf-polars-cu12==24.8.0a433) (1.5.0)\n",
            "Requirement already satisfied: cachetools in /usr/local/lib/python3.10/dist-packages (from cudf-cu12==24.8.*,>=0.0.0a0->cudf-polars-cu12==24.8.0a433) (5.5.0)\n",
            "Requirement already satisfied: cuda-python<13.0a0,>=12.0 in /usr/local/lib/python3.10/dist-packages (from cudf-cu12==24.8.*,>=0.0.0a0->cudf-polars-cu12==24.8.0a433) (12.2.1)\n",
            "Requirement already satisfied: cupy-cuda12x>=12.0.0 in /usr/local/lib/python3.10/dist-packages (from cudf-cu12==24.8.*,>=0.0.0a0->cudf-polars-cu12==24.8.0a433) (12.2.0)\n",
            "Requirement already satisfied: fsspec>=0.6.0 in /usr/local/lib/python3.10/dist-packages (from cudf-cu12==24.8.*,>=0.0.0a0->cudf-polars-cu12==24.8.0a433) (2024.6.1)\n",
            "Requirement already satisfied: numba>=0.57 in /usr/local/lib/python3.10/dist-packages (from cudf-cu12==24.8.*,>=0.0.0a0->cudf-polars-cu12==24.8.0a433) (0.60.0)\n",
            "Requirement already satisfied: numpy<2.0a0,>=1.23 in /usr/local/lib/python3.10/dist-packages (from cudf-cu12==24.8.*,>=0.0.0a0->cudf-polars-cu12==24.8.0a433) (1.26.4)\n",
            "Requirement already satisfied: nvtx>=0.2.1 in /usr/local/lib/python3.10/dist-packages (from cudf-cu12==24.8.*,>=0.0.0a0->cudf-polars-cu12==24.8.0a433) (0.2.10)\n",
            "Requirement already satisfied: packaging in /usr/local/lib/python3.10/dist-packages (from cudf-cu12==24.8.*,>=0.0.0a0->cudf-polars-cu12==24.8.0a433) (24.1)\n",
            "Requirement already satisfied: pandas<2.2.3dev0,>=2.0 in /usr/local/lib/python3.10/dist-packages (from cudf-cu12==24.8.*,>=0.0.0a0->cudf-polars-cu12==24.8.0a433) (2.1.4)\n",
            "Collecting pyarrow<16.2.0a0,>=16.1.0 (from cudf-cu12==24.8.*,>=0.0.0a0->cudf-polars-cu12==24.8.0a433)\n",
            "  Downloading pyarrow-16.1.0-cp310-cp310-manylinux_2_28_x86_64.whl.metadata (3.0 kB)\n",
            "Requirement already satisfied: pynvjitlink-cu12 in /usr/local/lib/python3.10/dist-packages (from cudf-cu12==24.8.*,>=0.0.0a0->cudf-polars-cu12==24.8.0a433) (0.3.0)\n",
            "Requirement already satisfied: rich in /usr/local/lib/python3.10/dist-packages (from cudf-cu12==24.8.*,>=0.0.0a0->cudf-polars-cu12==24.8.0a433) (13.8.1)\n",
            "Collecting rmm-cu12==24.8.* (from cudf-cu12==24.8.*,>=0.0.0a0->cudf-polars-cu12==24.8.0a433)\n",
            "  Downloading rmm_cu12-24.8.2.tar.gz (13 kB)\n",
            "  Installing build dependencies ... \u001b[?25l\u001b[?25hdone\n",
            "  Getting requirements to build wheel ... \u001b[?25l\u001b[?25hdone\n",
            "  Preparing metadata (pyproject.toml) ... \u001b[?25l\u001b[?25hdone\n",
            "Requirement already satisfied: typing_extensions>=4.0.0 in /usr/local/lib/python3.10/dist-packages (from cudf-cu12==24.8.*,>=0.0.0a0->cudf-polars-cu12==24.8.0a433) (4.12.2)\n",
            "Requirement already satisfied: cython in /usr/local/lib/python3.10/dist-packages (from cuda-python<13.0a0,>=12.0->cudf-cu12==24.8.*,>=0.0.0a0->cudf-polars-cu12==24.8.0a433) (3.0.11)\n",
            "Requirement already satisfied: fastrlock>=0.5 in /usr/local/lib/python3.10/dist-packages (from cupy-cuda12x>=12.0.0->cudf-cu12==24.8.*,>=0.0.0a0->cudf-polars-cu12==24.8.0a433) (0.8.2)\n",
            "Requirement already satisfied: llvmlite<0.44,>=0.43.0dev0 in /usr/local/lib/python3.10/dist-packages (from numba>=0.57->cudf-cu12==24.8.*,>=0.0.0a0->cudf-polars-cu12==24.8.0a433) (0.43.0)\n",
            "Requirement already satisfied: python-dateutil>=2.8.2 in /usr/local/lib/python3.10/dist-packages (from pandas<2.2.3dev0,>=2.0->cudf-cu12==24.8.*,>=0.0.0a0->cudf-polars-cu12==24.8.0a433) (2.8.2)\n",
            "Requirement already satisfied: pytz>=2020.1 in /usr/local/lib/python3.10/dist-packages (from pandas<2.2.3dev0,>=2.0->cudf-cu12==24.8.*,>=0.0.0a0->cudf-polars-cu12==24.8.0a433) (2024.2)\n",
            "Requirement already satisfied: tzdata>=2022.1 in /usr/local/lib/python3.10/dist-packages (from pandas<2.2.3dev0,>=2.0->cudf-cu12==24.8.*,>=0.0.0a0->cudf-polars-cu12==24.8.0a433) (2024.1)\n",
            "Requirement already satisfied: markdown-it-py>=2.2.0 in /usr/local/lib/python3.10/dist-packages (from rich->cudf-cu12==24.8.*,>=0.0.0a0->cudf-polars-cu12==24.8.0a433) (3.0.0)\n",
            "Requirement already satisfied: pygments<3.0.0,>=2.13.0 in /usr/local/lib/python3.10/dist-packages (from rich->cudf-cu12==24.8.*,>=0.0.0a0->cudf-polars-cu12==24.8.0a433) (2.16.1)\n",
            "Requirement already satisfied: mdurl~=0.1 in /usr/local/lib/python3.10/dist-packages (from markdown-it-py>=2.2.0->rich->cudf-cu12==24.8.*,>=0.0.0a0->cudf-polars-cu12==24.8.0a433) (0.1.2)\n",
            "Requirement already satisfied: six>=1.5 in /usr/local/lib/python3.10/dist-packages (from python-dateutil>=2.8.2->pandas<2.2.3dev0,>=2.0->cudf-cu12==24.8.*,>=0.0.0a0->cudf-polars-cu12==24.8.0a433) (1.16.0)\n",
            "Downloading pyarrow-16.1.0-cp310-cp310-manylinux_2_28_x86_64.whl (40.8 MB)\n",
            "\u001b[2K   \u001b[90m━━━━━━━━━━━━━━━━━━━━━━━━━━━━━━━━━━━━━━━━\u001b[0m \u001b[32m40.8/40.8 MB\u001b[0m \u001b[31m17.0 MB/s\u001b[0m eta \u001b[36m0:00:00\u001b[0m\n",
            "\u001b[?25hBuilding wheels for collected packages: rmm-cu12\n",
            "  Building wheel for rmm-cu12 (pyproject.toml) ... \u001b[?25l\u001b[?25hdone\n",
            "  Created wheel for rmm-cu12: filename=rmm_cu12-24.8.2-cp310-cp310-manylinux_2_24_x86_64.manylinux_2_28_x86_64.whl size=1743566 sha256=6c6dc399dd24e4cc418280f1faca1d74b1a852e25e7798bf6bccf5e1d64f0c01\n",
            "  Stored in directory: /root/.cache/pip/wheels/52/d3/4a/625ea3bd859c1353a9ca69712a3d58f8e83d8ac26ca7311983\n",
            "Successfully built rmm-cu12\n",
            "Installing collected packages: pyarrow, rmm-cu12, cudf-cu12, cudf-polars-cu12\n",
            "  Attempting uninstall: pyarrow\n",
            "    Found existing installation: pyarrow 14.0.2\n",
            "    Uninstalling pyarrow-14.0.2:\n",
            "      Successfully uninstalled pyarrow-14.0.2\n",
            "  Attempting uninstall: rmm-cu12\n",
            "    Found existing installation: rmm-cu12 24.4.0\n",
            "    Uninstalling rmm-cu12-24.4.0:\n",
            "      Successfully uninstalled rmm-cu12-24.4.0\n",
            "  Attempting uninstall: cudf-cu12\n",
            "    Found existing installation: cudf-cu12 24.4.1\n",
            "    Uninstalling cudf-cu12-24.4.1:\n",
            "      Successfully uninstalled cudf-cu12-24.4.1\n",
            "\u001b[31mERROR: pip's dependency resolver does not currently take into account all the packages that are installed. This behaviour is the source of the following dependency conflicts.\n",
            "ibis-framework 8.0.0 requires pyarrow<16,>=2, but you have pyarrow 16.1.0 which is incompatible.\u001b[0m\u001b[31m\n",
            "\u001b[0mSuccessfully installed cudf-cu12-24.8.3 cudf-polars-cu12-24.8.0a433 pyarrow-16.1.0 rmm-cu12-24.8.2\n",
            "time: 1min 6s (started: 2024-09-17 04:16:29 +00:00)\n"
          ]
        }
      ]
    },
    {
      "cell_type": "code",
      "source": [
        "!pip install -q ipython-autotime\n",
        "%load_ext autotime"
      ],
      "metadata": {
        "colab": {
          "base_uri": "https://localhost:8080/"
        },
        "id": "xVvSNVhu68Ar",
        "outputId": "6b220464-3cbb-488a-f5a3-051d424415bd"
      },
      "execution_count": 5,
      "outputs": [
        {
          "output_type": "stream",
          "name": "stdout",
          "text": [
            "time: 369 µs (started: 2024-09-17 04:16:02 +00:00)\n"
          ]
        }
      ]
    },
    {
      "cell_type": "markdown",
      "source": [
        "## Imports"
      ],
      "metadata": {
        "id": "ILzHz8ZBtSz2"
      }
    },
    {
      "cell_type": "code",
      "source": [
        "import polars as pl\n",
        "from polars.testing import assert_frame_equal"
      ],
      "metadata": {
        "id": "RgIs6xUPgeuP",
        "colab": {
          "base_uri": "https://localhost:8080/"
        },
        "outputId": "e7f53c50-3aaa-454c-c615-c7045ce58808"
      },
      "execution_count": 30,
      "outputs": [
        {
          "output_type": "stream",
          "name": "stdout",
          "text": [
            "time: 462 µs (started: 2024-09-17 04:47:34 +00:00)\n"
          ]
        }
      ]
    },
    {
      "cell_type": "code",
      "source": [
        "pl.Config.set_fmt_float(\"full\")"
      ],
      "metadata": {
        "id": "_viqhQWyp1gA",
        "colab": {
          "base_uri": "https://localhost:8080/",
          "height": 205
        },
        "outputId": "dcd22952-2517-4a4c-ba42-092c1d7cf7df"
      },
      "execution_count": 31,
      "outputs": [
        {
          "output_type": "execute_result",
          "data": {
            "text/plain": [
              "polars.config.Config"
            ],
            "text/html": [
              "<div style=\"max-width:800px; border: 1px solid var(--colab-border-color);\"><style>\n",
              "      pre.function-repr-contents {\n",
              "        overflow-x: auto;\n",
              "        padding: 8px 12px;\n",
              "        max-height: 500px;\n",
              "      }\n",
              "\n",
              "      pre.function-repr-contents.function-repr-contents-collapsed {\n",
              "        cursor: pointer;\n",
              "        max-height: 100px;\n",
              "      }\n",
              "    </style>\n",
              "    <pre style=\"white-space: initial; background:\n",
              "         var(--colab-secondary-surface-color); padding: 8px 12px;\n",
              "         border-bottom: 1px solid var(--colab-border-color);\"><b>polars.config.Config</b><br/>def __call__(func)</pre><pre class=\"function-repr-contents function-repr-contents-collapsed\" style=\"\"><a class=\"filepath\" style=\"display:none\" href=\"#\">/usr/local/lib/python3.10/dist-packages/polars/config.py</a>Configure polars; offers options for table formatting and more.\n",
              "\n",
              "Notes\n",
              "-----\n",
              "Can also be used as a context manager OR a function decorator in order to\n",
              "temporarily scope the lifetime of specific options. For example:\n",
              "\n",
              "&gt;&gt;&gt; with pl.Config() as cfg:\n",
              "...     # set verbose for more detailed output within the scope\n",
              "...     cfg.set_verbose(True)  # doctest: +IGNORE_RESULT\n",
              "&gt;&gt;&gt; # scope exit - no longer in verbose mode\n",
              "\n",
              "This can also be written more compactly as:\n",
              "\n",
              "&gt;&gt;&gt; with pl.Config(verbose=True):\n",
              "...     pass\n",
              "\n",
              "(The compact format is available for all `Config` methods that take a single value).\n",
              "\n",
              "Alternatively, you can use as a decorator in order to scope the duration of the\n",
              "selected options to a specific function:\n",
              "\n",
              "&gt;&gt;&gt; @pl.Config(verbose=True)\n",
              "... def test():\n",
              "...     pass</pre>\n",
              "      <script>\n",
              "      if (google.colab.kernel.accessAllowed && google.colab.files && google.colab.files.view) {\n",
              "        for (const element of document.querySelectorAll('.filepath')) {\n",
              "          element.style.display = 'block'\n",
              "          element.onclick = (event) => {\n",
              "            event.preventDefault();\n",
              "            event.stopPropagation();\n",
              "            google.colab.files.view(element.textContent, 84);\n",
              "          };\n",
              "        }\n",
              "      }\n",
              "      for (const element of document.querySelectorAll('.function-repr-contents')) {\n",
              "        element.onclick = (event) => {\n",
              "          event.preventDefault();\n",
              "          event.stopPropagation();\n",
              "          element.classList.toggle('function-repr-contents-collapsed');\n",
              "        };\n",
              "      }\n",
              "      </script>\n",
              "      </div>"
            ]
          },
          "metadata": {},
          "execution_count": 31
        },
        {
          "output_type": "stream",
          "name": "stdout",
          "text": [
            "time: 30.6 ms (started: 2024-09-17 04:47:35 +00:00)\n"
          ]
        }
      ]
    },
    {
      "cell_type": "code",
      "source": [
        "pl.__version__"
      ],
      "metadata": {
        "id": "LYlrUHXahhZf",
        "colab": {
          "base_uri": "https://localhost:8080/",
          "height": 53
        },
        "outputId": "fd9c0478-d9a4-404d-a3fc-1c960e0a4215"
      },
      "execution_count": 32,
      "outputs": [
        {
          "output_type": "execute_result",
          "data": {
            "text/plain": [
              "'1.5.0'"
            ],
            "application/vnd.google.colaboratory.intrinsic+json": {
              "type": "string"
            }
          },
          "metadata": {},
          "execution_count": 32
        },
        {
          "output_type": "stream",
          "name": "stdout",
          "text": [
            "time: 3.26 ms (started: 2024-09-17 04:47:35 +00:00)\n"
          ]
        }
      ]
    },
    {
      "cell_type": "markdown",
      "source": [
        "## Reading the Dataset"
      ],
      "metadata": {
        "id": "srFujDqctiv6"
      }
    },
    {
      "cell_type": "code",
      "source": [
        "import os\n",
        "\n",
        "def get_csv_size_in_gb(filepath):\n",
        "    \"\"\"Gets the size of a CSV file in GB.\"\"\"\n",
        "\n",
        "    size_in_bytes = os.path.getsize(filepath)\n",
        "    size_in_gb = size_in_bytes / (1024 ** 3)  # 1GB = 1024^3 bytes\n",
        "    return size_in_gb\n",
        "\n",
        "filepath = \"Combined_Flights_2018.csv\"  # Replace with the actual path to your CSV file\n",
        "size_in_gb = get_csv_size_in_gb(filepath)\n",
        "\n",
        "print(f\"The size of {filepath} is: {size_in_gb:.2f} GB\")"
      ],
      "metadata": {
        "colab": {
          "base_uri": "https://localhost:8080/"
        },
        "id": "2Fb9cjvC9D9Q",
        "outputId": "80e4b7a3-71dc-4c19-b38a-49ed78b121c6"
      },
      "execution_count": 33,
      "outputs": [
        {
          "output_type": "stream",
          "name": "stdout",
          "text": [
            "The size of Combined_Flights_2018.csv is: 1.86 GB\n",
            "time: 1.63 ms (started: 2024-09-17 04:47:40 +00:00)\n"
          ]
        }
      ]
    },
    {
      "cell_type": "code",
      "source": [
        "flight_df = pl.scan_csv(\"Combined_Flights_2018.csv\")"
      ],
      "metadata": {
        "colab": {
          "base_uri": "https://localhost:8080/"
        },
        "id": "Bm_PK6qOhjjx",
        "outputId": "e228dc03-d812-419e-f8b3-ad55a03e251b"
      },
      "execution_count": 34,
      "outputs": [
        {
          "output_type": "stream",
          "name": "stdout",
          "text": [
            "time: 9.83 ms (started: 2024-09-17 04:47:41 +00:00)\n"
          ]
        }
      ]
    },
    {
      "cell_type": "code",
      "source": [
        "flight_df.collect_schema()"
      ],
      "metadata": {
        "colab": {
          "base_uri": "https://localhost:8080/"
        },
        "id": "LM6h_v4PhndE",
        "outputId": "6da67a34-1d79-4351-8f70-47a3e1266377"
      },
      "execution_count": 35,
      "outputs": [
        {
          "output_type": "execute_result",
          "data": {
            "text/plain": [
              "Schema([('FlightDate', String),\n",
              "        ('Airline', String),\n",
              "        ('Origin', String),\n",
              "        ('Dest', String),\n",
              "        ('Cancelled', Boolean),\n",
              "        ('Diverted', Boolean),\n",
              "        ('CRSDepTime', Int64),\n",
              "        ('DepTime', Float64),\n",
              "        ('DepDelayMinutes', Float64),\n",
              "        ('DepDelay', Float64),\n",
              "        ('ArrTime', Float64),\n",
              "        ('ArrDelayMinutes', Float64),\n",
              "        ('AirTime', Float64),\n",
              "        ('CRSElapsedTime', Float64),\n",
              "        ('ActualElapsedTime', Float64),\n",
              "        ('Distance', Float64),\n",
              "        ('Year', Int64),\n",
              "        ('Quarter', Int64),\n",
              "        ('Month', Int64),\n",
              "        ('DayofMonth', Int64),\n",
              "        ('DayOfWeek', Int64),\n",
              "        ('Marketing_Airline_Network', String),\n",
              "        ('Operated_or_Branded_Code_Share_Partners', String),\n",
              "        ('DOT_ID_Marketing_Airline', Int64),\n",
              "        ('IATA_Code_Marketing_Airline', String),\n",
              "        ('Flight_Number_Marketing_Airline', Int64),\n",
              "        ('Operating_Airline', String),\n",
              "        ('DOT_ID_Operating_Airline', Int64),\n",
              "        ('IATA_Code_Operating_Airline', String),\n",
              "        ('Tail_Number', String),\n",
              "        ('Flight_Number_Operating_Airline', Int64),\n",
              "        ('OriginAirportID', Int64),\n",
              "        ('OriginAirportSeqID', Int64),\n",
              "        ('OriginCityMarketID', Int64),\n",
              "        ('OriginCityName', String),\n",
              "        ('OriginState', String),\n",
              "        ('OriginStateFips', Int64),\n",
              "        ('OriginStateName', String),\n",
              "        ('OriginWac', Int64),\n",
              "        ('DestAirportID', Int64),\n",
              "        ('DestAirportSeqID', Int64),\n",
              "        ('DestCityMarketID', Int64),\n",
              "        ('DestCityName', String),\n",
              "        ('DestState', String),\n",
              "        ('DestStateFips', Int64),\n",
              "        ('DestStateName', String),\n",
              "        ('DestWac', Int64),\n",
              "        ('DepDel15', Float64),\n",
              "        ('DepartureDelayGroups', Float64),\n",
              "        ('DepTimeBlk', String),\n",
              "        ('TaxiOut', Float64),\n",
              "        ('WheelsOff', Float64),\n",
              "        ('WheelsOn', Float64),\n",
              "        ('TaxiIn', Float64),\n",
              "        ('CRSArrTime', Int64),\n",
              "        ('ArrDelay', Float64),\n",
              "        ('ArrDel15', Float64),\n",
              "        ('ArrivalDelayGroups', Float64),\n",
              "        ('ArrTimeBlk', String),\n",
              "        ('DistanceGroup', Int64),\n",
              "        ('DivAirportLandings', Float64)])"
            ]
          },
          "metadata": {},
          "execution_count": 35
        },
        {
          "output_type": "stream",
          "name": "stdout",
          "text": [
            "time: 123 ms (started: 2024-09-17 04:47:41 +00:00)\n"
          ]
        }
      ]
    },
    {
      "cell_type": "code",
      "source": [
        "flight_df.head(5).collect()"
      ],
      "metadata": {
        "colab": {
          "base_uri": "https://localhost:8080/",
          "height": 380
        },
        "id": "dXI4tCmThpq1",
        "outputId": "0e65dbfd-7173-4fec-b045-bd34098909f9"
      },
      "execution_count": 36,
      "outputs": [
        {
          "output_type": "execute_result",
          "data": {
            "text/plain": [
              "shape: (5, 61)\n",
              "┌────────────┬─────────────┬────────┬──────┬───┬────────────┬────────────┬────────────┬────────────┐\n",
              "│ FlightDate ┆ Airline     ┆ Origin ┆ Dest ┆ … ┆ ArrivalDel ┆ ArrTimeBlk ┆ DistanceGr ┆ DivAirport │\n",
              "│ ---        ┆ ---         ┆ ---    ┆ ---  ┆   ┆ ayGroups   ┆ ---        ┆ oup        ┆ Landings   │\n",
              "│ str        ┆ str         ┆ str    ┆ str  ┆   ┆ ---        ┆ str        ┆ ---        ┆ ---        │\n",
              "│            ┆             ┆        ┆      ┆   ┆ f64        ┆            ┆ i64        ┆ f64        │\n",
              "╞════════════╪═════════════╪════════╪══════╪═══╪════════════╪════════════╪════════════╪════════════╡\n",
              "│ 2018-01-23 ┆ Endeavor    ┆ ABY    ┆ ATL  ┆ … ┆ -1         ┆ 1300-1359  ┆ 1          ┆ 0          │\n",
              "│            ┆ Air Inc.    ┆        ┆      ┆   ┆            ┆            ┆            ┆            │\n",
              "│ 2018-01-24 ┆ Endeavor    ┆ ABY    ┆ ATL  ┆ … ┆ -1         ┆ 1300-1359  ┆ 1          ┆ 0          │\n",
              "│            ┆ Air Inc.    ┆        ┆      ┆   ┆            ┆            ┆            ┆            │\n",
              "│ 2018-01-25 ┆ Endeavor    ┆ ABY    ┆ ATL  ┆ … ┆ -1         ┆ 1300-1359  ┆ 1          ┆ 0          │\n",
              "│            ┆ Air Inc.    ┆        ┆      ┆   ┆            ┆            ┆            ┆            │\n",
              "│ 2018-01-26 ┆ Endeavor    ┆ ABY    ┆ ATL  ┆ … ┆ -1         ┆ 1300-1359  ┆ 1          ┆ 0          │\n",
              "│            ┆ Air Inc.    ┆        ┆      ┆   ┆            ┆            ┆            ┆            │\n",
              "│ 2018-01-27 ┆ Endeavor    ┆ ABY    ┆ ATL  ┆ … ┆ -1         ┆ 1500-1559  ┆ 1          ┆ 0          │\n",
              "│            ┆ Air Inc.    ┆        ┆      ┆   ┆            ┆            ┆            ┆            │\n",
              "└────────────┴─────────────┴────────┴──────┴───┴────────────┴────────────┴────────────┴────────────┘"
            ],
            "text/html": [
              "<div><style>\n",
              ".dataframe > thead > tr,\n",
              ".dataframe > tbody > tr {\n",
              "  text-align: right;\n",
              "  white-space: pre-wrap;\n",
              "}\n",
              "</style>\n",
              "<small>shape: (5, 61)</small><table border=\"1\" class=\"dataframe\"><thead><tr><th>FlightDate</th><th>Airline</th><th>Origin</th><th>Dest</th><th>Cancelled</th><th>Diverted</th><th>CRSDepTime</th><th>DepTime</th><th>DepDelayMinutes</th><th>DepDelay</th><th>ArrTime</th><th>ArrDelayMinutes</th><th>AirTime</th><th>CRSElapsedTime</th><th>ActualElapsedTime</th><th>Distance</th><th>Year</th><th>Quarter</th><th>Month</th><th>DayofMonth</th><th>DayOfWeek</th><th>Marketing_Airline_Network</th><th>Operated_or_Branded_Code_Share_Partners</th><th>DOT_ID_Marketing_Airline</th><th>IATA_Code_Marketing_Airline</th><th>Flight_Number_Marketing_Airline</th><th>Operating_Airline</th><th>DOT_ID_Operating_Airline</th><th>IATA_Code_Operating_Airline</th><th>Tail_Number</th><th>Flight_Number_Operating_Airline</th><th>OriginAirportID</th><th>OriginAirportSeqID</th><th>OriginCityMarketID</th><th>OriginCityName</th><th>OriginState</th><th>OriginStateFips</th><th>OriginStateName</th><th>OriginWac</th><th>DestAirportID</th><th>DestAirportSeqID</th><th>DestCityMarketID</th><th>DestCityName</th><th>DestState</th><th>DestStateFips</th><th>DestStateName</th><th>DestWac</th><th>DepDel15</th><th>DepartureDelayGroups</th><th>DepTimeBlk</th><th>TaxiOut</th><th>WheelsOff</th><th>WheelsOn</th><th>TaxiIn</th><th>CRSArrTime</th><th>ArrDelay</th><th>ArrDel15</th><th>ArrivalDelayGroups</th><th>ArrTimeBlk</th><th>DistanceGroup</th><th>DivAirportLandings</th></tr><tr><td>str</td><td>str</td><td>str</td><td>str</td><td>bool</td><td>bool</td><td>i64</td><td>f64</td><td>f64</td><td>f64</td><td>f64</td><td>f64</td><td>f64</td><td>f64</td><td>f64</td><td>f64</td><td>i64</td><td>i64</td><td>i64</td><td>i64</td><td>i64</td><td>str</td><td>str</td><td>i64</td><td>str</td><td>i64</td><td>str</td><td>i64</td><td>str</td><td>str</td><td>i64</td><td>i64</td><td>i64</td><td>i64</td><td>str</td><td>str</td><td>i64</td><td>str</td><td>i64</td><td>i64</td><td>i64</td><td>i64</td><td>str</td><td>str</td><td>i64</td><td>str</td><td>i64</td><td>f64</td><td>f64</td><td>str</td><td>f64</td><td>f64</td><td>f64</td><td>f64</td><td>i64</td><td>f64</td><td>f64</td><td>f64</td><td>str</td><td>i64</td><td>f64</td></tr></thead><tbody><tr><td>&quot;2018-01-23&quot;</td><td>&quot;Endeavor Air Inc.&quot;</td><td>&quot;ABY&quot;</td><td>&quot;ATL&quot;</td><td>false</td><td>false</td><td>1202</td><td>1157</td><td>0</td><td>-5</td><td>1256</td><td>0</td><td>38</td><td>62</td><td>59</td><td>145</td><td>2018</td><td>1</td><td>1</td><td>23</td><td>2</td><td>&quot;DL&quot;</td><td>&quot;DL_CODESHARE&quot;</td><td>19790</td><td>&quot;DL&quot;</td><td>3298</td><td>&quot;9E&quot;</td><td>20363</td><td>&quot;9E&quot;</td><td>&quot;N8928A&quot;</td><td>3298</td><td>10146</td><td>1014602</td><td>30146</td><td>&quot;Albany, GA&quot;</td><td>&quot;GA&quot;</td><td>13</td><td>&quot;Georgia&quot;</td><td>34</td><td>10397</td><td>1039707</td><td>30397</td><td>&quot;Atlanta, GA&quot;</td><td>&quot;GA&quot;</td><td>13</td><td>&quot;Georgia&quot;</td><td>34</td><td>0</td><td>-1</td><td>&quot;1200-1259&quot;</td><td>14</td><td>1211</td><td>1249</td><td>7</td><td>1304</td><td>-8</td><td>0</td><td>-1</td><td>&quot;1300-1359&quot;</td><td>1</td><td>0</td></tr><tr><td>&quot;2018-01-24&quot;</td><td>&quot;Endeavor Air Inc.&quot;</td><td>&quot;ABY&quot;</td><td>&quot;ATL&quot;</td><td>false</td><td>false</td><td>1202</td><td>1157</td><td>0</td><td>-5</td><td>1258</td><td>0</td><td>36</td><td>62</td><td>61</td><td>145</td><td>2018</td><td>1</td><td>1</td><td>24</td><td>3</td><td>&quot;DL&quot;</td><td>&quot;DL_CODESHARE&quot;</td><td>19790</td><td>&quot;DL&quot;</td><td>3298</td><td>&quot;9E&quot;</td><td>20363</td><td>&quot;9E&quot;</td><td>&quot;N800AY&quot;</td><td>3298</td><td>10146</td><td>1014602</td><td>30146</td><td>&quot;Albany, GA&quot;</td><td>&quot;GA&quot;</td><td>13</td><td>&quot;Georgia&quot;</td><td>34</td><td>10397</td><td>1039707</td><td>30397</td><td>&quot;Atlanta, GA&quot;</td><td>&quot;GA&quot;</td><td>13</td><td>&quot;Georgia&quot;</td><td>34</td><td>0</td><td>-1</td><td>&quot;1200-1259&quot;</td><td>13</td><td>1210</td><td>1246</td><td>12</td><td>1304</td><td>-6</td><td>0</td><td>-1</td><td>&quot;1300-1359&quot;</td><td>1</td><td>0</td></tr><tr><td>&quot;2018-01-25&quot;</td><td>&quot;Endeavor Air Inc.&quot;</td><td>&quot;ABY&quot;</td><td>&quot;ATL&quot;</td><td>false</td><td>false</td><td>1202</td><td>1153</td><td>0</td><td>-9</td><td>1302</td><td>0</td><td>40</td><td>62</td><td>69</td><td>145</td><td>2018</td><td>1</td><td>1</td><td>25</td><td>4</td><td>&quot;DL&quot;</td><td>&quot;DL_CODESHARE&quot;</td><td>19790</td><td>&quot;DL&quot;</td><td>3298</td><td>&quot;9E&quot;</td><td>20363</td><td>&quot;9E&quot;</td><td>&quot;N8836A&quot;</td><td>3298</td><td>10146</td><td>1014602</td><td>30146</td><td>&quot;Albany, GA&quot;</td><td>&quot;GA&quot;</td><td>13</td><td>&quot;Georgia&quot;</td><td>34</td><td>10397</td><td>1039707</td><td>30397</td><td>&quot;Atlanta, GA&quot;</td><td>&quot;GA&quot;</td><td>13</td><td>&quot;Georgia&quot;</td><td>34</td><td>0</td><td>-1</td><td>&quot;1200-1259&quot;</td><td>18</td><td>1211</td><td>1251</td><td>11</td><td>1304</td><td>-2</td><td>0</td><td>-1</td><td>&quot;1300-1359&quot;</td><td>1</td><td>0</td></tr><tr><td>&quot;2018-01-26&quot;</td><td>&quot;Endeavor Air Inc.&quot;</td><td>&quot;ABY&quot;</td><td>&quot;ATL&quot;</td><td>false</td><td>false</td><td>1202</td><td>1150</td><td>0</td><td>-12</td><td>1253</td><td>0</td><td>35</td><td>62</td><td>63</td><td>145</td><td>2018</td><td>1</td><td>1</td><td>26</td><td>5</td><td>&quot;DL&quot;</td><td>&quot;DL_CODESHARE&quot;</td><td>19790</td><td>&quot;DL&quot;</td><td>3298</td><td>&quot;9E&quot;</td><td>20363</td><td>&quot;9E&quot;</td><td>&quot;N800AY&quot;</td><td>3298</td><td>10146</td><td>1014602</td><td>30146</td><td>&quot;Albany, GA&quot;</td><td>&quot;GA&quot;</td><td>13</td><td>&quot;Georgia&quot;</td><td>34</td><td>10397</td><td>1039707</td><td>30397</td><td>&quot;Atlanta, GA&quot;</td><td>&quot;GA&quot;</td><td>13</td><td>&quot;Georgia&quot;</td><td>34</td><td>0</td><td>-1</td><td>&quot;1200-1259&quot;</td><td>17</td><td>1207</td><td>1242</td><td>11</td><td>1304</td><td>-11</td><td>0</td><td>-1</td><td>&quot;1300-1359&quot;</td><td>1</td><td>0</td></tr><tr><td>&quot;2018-01-27&quot;</td><td>&quot;Endeavor Air Inc.&quot;</td><td>&quot;ABY&quot;</td><td>&quot;ATL&quot;</td><td>false</td><td>false</td><td>1400</td><td>1355</td><td>0</td><td>-5</td><td>1459</td><td>0</td><td>36</td><td>60</td><td>64</td><td>145</td><td>2018</td><td>1</td><td>1</td><td>27</td><td>6</td><td>&quot;DL&quot;</td><td>&quot;DL_CODESHARE&quot;</td><td>19790</td><td>&quot;DL&quot;</td><td>3298</td><td>&quot;9E&quot;</td><td>20363</td><td>&quot;9E&quot;</td><td>&quot;N8839E&quot;</td><td>3298</td><td>10146</td><td>1014602</td><td>30146</td><td>&quot;Albany, GA&quot;</td><td>&quot;GA&quot;</td><td>13</td><td>&quot;Georgia&quot;</td><td>34</td><td>10397</td><td>1039707</td><td>30397</td><td>&quot;Atlanta, GA&quot;</td><td>&quot;GA&quot;</td><td>13</td><td>&quot;Georgia&quot;</td><td>34</td><td>0</td><td>-1</td><td>&quot;1400-1459&quot;</td><td>17</td><td>1412</td><td>1448</td><td>11</td><td>1500</td><td>-1</td><td>0</td><td>-1</td><td>&quot;1500-1559&quot;</td><td>1</td><td>0</td></tr></tbody></table></div>"
            ]
          },
          "metadata": {},
          "execution_count": 36
        },
        {
          "output_type": "stream",
          "name": "stdout",
          "text": [
            "time: 102 ms (started: 2024-09-17 04:47:43 +00:00)\n"
          ]
        }
      ]
    },
    {
      "cell_type": "code",
      "source": [
        "flight_df.select(pl.col(\"AirTime\").sum()).collect()"
      ],
      "metadata": {
        "colab": {
          "base_uri": "https://localhost:8080/",
          "height": 147
        },
        "id": "qUzGCnbKhr17",
        "outputId": "b7af4aad-d1b6-41b7-a727-f420cde46793"
      },
      "execution_count": 37,
      "outputs": [
        {
          "output_type": "execute_result",
          "data": {
            "text/plain": [
              "shape: (1, 1)\n",
              "┌───────────┐\n",
              "│ AirTime   │\n",
              "│ ---       │\n",
              "│ f64       │\n",
              "╞═══════════╡\n",
              "│ 614784103 │\n",
              "└───────────┘"
            ],
            "text/html": [
              "<div><style>\n",
              ".dataframe > thead > tr,\n",
              ".dataframe > tbody > tr {\n",
              "  text-align: right;\n",
              "  white-space: pre-wrap;\n",
              "}\n",
              "</style>\n",
              "<small>shape: (1, 1)</small><table border=\"1\" class=\"dataframe\"><thead><tr><th>AirTime</th></tr><tr><td>f64</td></tr></thead><tbody><tr><td>614784103</td></tr></tbody></table></div>"
            ]
          },
          "metadata": {},
          "execution_count": 37
        },
        {
          "output_type": "stream",
          "name": "stdout",
          "text": [
            "time: 17.3 s (started: 2024-09-17 04:47:48 +00:00)\n"
          ]
        }
      ]
    },
    {
      "cell_type": "code",
      "source": [
        "flight_df.select(pl.col(\"AirTime\").sum()).collect(engine=\"gpu\")"
      ],
      "metadata": {
        "colab": {
          "base_uri": "https://localhost:8080/",
          "height": 147
        },
        "id": "lMtIly_xhxhi",
        "outputId": "7a92c316-eca2-4ca6-bda5-723d42aa8673"
      },
      "execution_count": 38,
      "outputs": [
        {
          "output_type": "execute_result",
          "data": {
            "text/plain": [
              "shape: (1, 1)\n",
              "┌───────────┐\n",
              "│ AirTime   │\n",
              "│ ---       │\n",
              "│ f64       │\n",
              "╞═══════════╡\n",
              "│ 614784103 │\n",
              "└───────────┘"
            ],
            "text/html": [
              "<div><style>\n",
              ".dataframe > thead > tr,\n",
              ".dataframe > tbody > tr {\n",
              "  text-align: right;\n",
              "  white-space: pre-wrap;\n",
              "}\n",
              "</style>\n",
              "<small>shape: (1, 1)</small><table border=\"1\" class=\"dataframe\"><thead><tr><th>AirTime</th></tr><tr><td>f64</td></tr></thead><tbody><tr><td>614784103</td></tr></tbody></table></div>"
            ]
          },
          "metadata": {},
          "execution_count": 38
        },
        {
          "output_type": "stream",
          "name": "stdout",
          "text": [
            "time: 7.62 s (started: 2024-09-17 04:48:06 +00:00)\n"
          ]
        }
      ]
    },
    {
      "cell_type": "code",
      "source": [
        "gpu_engine = pl.GPUEngine(\n",
        "    device=0,\n",
        "    raise_on_fail=True,\n",
        ")"
      ],
      "metadata": {
        "colab": {
          "base_uri": "https://localhost:8080/"
        },
        "id": "0t-TWvvfh19k",
        "outputId": "64ed2c43-a342-4840-a9f2-01a416c8970f"
      },
      "execution_count": 39,
      "outputs": [
        {
          "output_type": "stream",
          "name": "stdout",
          "text": [
            "time: 558 µs (started: 2024-09-17 04:48:13 +00:00)\n"
          ]
        }
      ]
    },
    {
      "cell_type": "code",
      "source": [],
      "metadata": {
        "id": "e0zUbhQplhYo"
      },
      "execution_count": null,
      "outputs": []
    },
    {
      "cell_type": "markdown",
      "source": [
        "# Find the top flight routes (based on origin, destination, month, and airline) that have the **longest average flight distances** & display only the top results."
      ],
      "metadata": {
        "id": "A1zJSiFIsVvB"
      }
    },
    {
      "cell_type": "code",
      "source": [
        "res_cpu = (\n",
        "    flight_df\n",
        "    .group_by(\"Origin\",\t\"Dest\", \"Month\", \"Airline\",)\n",
        "    .agg(pl.col(\"Distance\").mean())\n",
        "    .sort(by=\"Distance\", descending=True)\n",
        "    .head()\n",
        "    .collect()\n",
        ")\n",
        "\n",
        "res_cpu"
      ],
      "metadata": {
        "colab": {
          "base_uri": "https://localhost:8080/",
          "height": 273
        },
        "id": "XIvHar0glkcW",
        "outputId": "d00d610e-8328-4d5c-f47d-1d2b7094df79"
      },
      "execution_count": 40,
      "outputs": [
        {
          "output_type": "execute_result",
          "data": {
            "text/plain": [
              "shape: (5, 5)\n",
              "┌────────┬──────┬───────┬────────────────────────┬──────────┐\n",
              "│ Origin ┆ Dest ┆ Month ┆ Airline                ┆ Distance │\n",
              "│ ---    ┆ ---  ┆ ---   ┆ ---                    ┆ ---      │\n",
              "│ str    ┆ str  ┆ i64   ┆ str                    ┆ f64      │\n",
              "╞════════╪══════╪═══════╪════════════════════════╪══════════╡\n",
              "│ JFK    ┆ HNL  ┆ 1     ┆ Hawaiian Airlines Inc. ┆ 4983     │\n",
              "│ HNL    ┆ JFK  ┆ 11    ┆ Hawaiian Airlines Inc. ┆ 4983     │\n",
              "│ HNL    ┆ JFK  ┆ 12    ┆ Delta Air Lines Inc.   ┆ 4983     │\n",
              "│ HNL    ┆ JFK  ┆ 8     ┆ Hawaiian Airlines Inc. ┆ 4983     │\n",
              "│ JFK    ┆ HNL  ┆ 6     ┆ Hawaiian Airlines Inc. ┆ 4983     │\n",
              "└────────┴──────┴───────┴────────────────────────┴──────────┘"
            ],
            "text/html": [
              "<div><style>\n",
              ".dataframe > thead > tr,\n",
              ".dataframe > tbody > tr {\n",
              "  text-align: right;\n",
              "  white-space: pre-wrap;\n",
              "}\n",
              "</style>\n",
              "<small>shape: (5, 5)</small><table border=\"1\" class=\"dataframe\"><thead><tr><th>Origin</th><th>Dest</th><th>Month</th><th>Airline</th><th>Distance</th></tr><tr><td>str</td><td>str</td><td>i64</td><td>str</td><td>f64</td></tr></thead><tbody><tr><td>&quot;JFK&quot;</td><td>&quot;HNL&quot;</td><td>1</td><td>&quot;Hawaiian Airlines Inc.&quot;</td><td>4983</td></tr><tr><td>&quot;HNL&quot;</td><td>&quot;JFK&quot;</td><td>11</td><td>&quot;Hawaiian Airlines Inc.&quot;</td><td>4983</td></tr><tr><td>&quot;HNL&quot;</td><td>&quot;JFK&quot;</td><td>12</td><td>&quot;Delta Air Lines Inc.&quot;</td><td>4983</td></tr><tr><td>&quot;HNL&quot;</td><td>&quot;JFK&quot;</td><td>8</td><td>&quot;Hawaiian Airlines Inc.&quot;</td><td>4983</td></tr><tr><td>&quot;JFK&quot;</td><td>&quot;HNL&quot;</td><td>6</td><td>&quot;Hawaiian Airlines Inc.&quot;</td><td>4983</td></tr></tbody></table></div>"
            ]
          },
          "metadata": {},
          "execution_count": 40
        },
        {
          "output_type": "stream",
          "name": "stdout",
          "text": [
            "time: 7.3 s (started: 2024-09-17 04:48:13 +00:00)\n"
          ]
        }
      ]
    },
    {
      "cell_type": "code",
      "source": [
        "res_gpu = (\n",
        "    flight_df\n",
        "    .group_by(\"Origin\",\t\"Dest\", \"Month\", \"Airline\",)\n",
        "    .agg(pl.col(\"Distance\").median())\n",
        "    .sort(by=\"Distance\", descending=True)\n",
        "    .head()\n",
        "    .collect(engine=gpu_engine)\n",
        ")\n",
        "res_gpu"
      ],
      "metadata": {
        "colab": {
          "base_uri": "https://localhost:8080/",
          "height": 273
        },
        "id": "r-WaooxsmRLW",
        "outputId": "df2de5fb-0301-4efb-c6c4-e09d11703715"
      },
      "execution_count": 46,
      "outputs": [
        {
          "output_type": "execute_result",
          "data": {
            "text/plain": [
              "shape: (5, 5)\n",
              "┌────────┬──────┬───────┬────────────────────────┬──────────┐\n",
              "│ Origin ┆ Dest ┆ Month ┆ Airline                ┆ Distance │\n",
              "│ ---    ┆ ---  ┆ ---   ┆ ---                    ┆ ---      │\n",
              "│ str    ┆ str  ┆ i64   ┆ str                    ┆ f64      │\n",
              "╞════════╪══════╪═══════╪════════════════════════╪══════════╡\n",
              "│ HNL    ┆ JFK  ┆ 1     ┆ Delta Air Lines Inc.   ┆ 4983     │\n",
              "│ HNL    ┆ JFK  ┆ 1     ┆ Hawaiian Airlines Inc. ┆ 4983     │\n",
              "│ HNL    ┆ JFK  ┆ 2     ┆ Hawaiian Airlines Inc. ┆ 4983     │\n",
              "│ HNL    ┆ JFK  ┆ 3     ┆ Hawaiian Airlines Inc. ┆ 4983     │\n",
              "│ HNL    ┆ JFK  ┆ 4     ┆ Hawaiian Airlines Inc. ┆ 4983     │\n",
              "└────────┴──────┴───────┴────────────────────────┴──────────┘"
            ],
            "text/html": [
              "<div><style>\n",
              ".dataframe > thead > tr,\n",
              ".dataframe > tbody > tr {\n",
              "  text-align: right;\n",
              "  white-space: pre-wrap;\n",
              "}\n",
              "</style>\n",
              "<small>shape: (5, 5)</small><table border=\"1\" class=\"dataframe\"><thead><tr><th>Origin</th><th>Dest</th><th>Month</th><th>Airline</th><th>Distance</th></tr><tr><td>str</td><td>str</td><td>i64</td><td>str</td><td>f64</td></tr></thead><tbody><tr><td>&quot;HNL&quot;</td><td>&quot;JFK&quot;</td><td>1</td><td>&quot;Delta Air Lines Inc.&quot;</td><td>4983</td></tr><tr><td>&quot;HNL&quot;</td><td>&quot;JFK&quot;</td><td>1</td><td>&quot;Hawaiian Airlines Inc.&quot;</td><td>4983</td></tr><tr><td>&quot;HNL&quot;</td><td>&quot;JFK&quot;</td><td>2</td><td>&quot;Hawaiian Airlines Inc.&quot;</td><td>4983</td></tr><tr><td>&quot;HNL&quot;</td><td>&quot;JFK&quot;</td><td>3</td><td>&quot;Hawaiian Airlines Inc.&quot;</td><td>4983</td></tr><tr><td>&quot;HNL&quot;</td><td>&quot;JFK&quot;</td><td>4</td><td>&quot;Hawaiian Airlines Inc.&quot;</td><td>4983</td></tr></tbody></table></div>"
            ]
          },
          "metadata": {},
          "execution_count": 46
        },
        {
          "output_type": "stream",
          "name": "stdout",
          "text": [
            "time: 1.74 s (started: 2024-09-17 04:48:46 +00:00)\n"
          ]
        }
      ]
    },
    {
      "cell_type": "code",
      "source": [],
      "metadata": {
        "id": "-z3vZ6RssmCd",
        "colab": {
          "base_uri": "https://localhost:8080/"
        },
        "outputId": "18f4857b-db58-4091-c491-fd97cc65c7d2"
      },
      "execution_count": 41,
      "outputs": [
        {
          "output_type": "stream",
          "name": "stdout",
          "text": [
            "time: 2.8 s (started: 2024-09-17 04:48:21 +00:00)\n"
          ]
        }
      ]
    },
    {
      "cell_type": "markdown",
      "source": [
        "# Find the **top 10 flight routes (by airline, origin, destination, and month)** that have the highest number of cancellations."
      ],
      "metadata": {
        "id": "IDOdmbxRsmn2"
      }
    },
    {
      "cell_type": "code",
      "source": [
        "query = \"\"\"\n",
        "SELECT Airline, Origin,\tDest, Month, SUM(Cancelled) as total_cancelled\n",
        "FROM flight_df\n",
        "GROUP BY Airline, Origin,\tDest, Month\n",
        "ORDER BY total_cancelled desc\n",
        "LIMIT 50\n",
        "\"\"\""
      ],
      "metadata": {
        "colab": {
          "base_uri": "https://localhost:8080/"
        },
        "id": "KZPIaENKmd_H",
        "outputId": "4dbd892c-660c-48d0-ef9c-965b3bda80a6"
      },
      "execution_count": 42,
      "outputs": [
        {
          "output_type": "stream",
          "name": "stdout",
          "text": [
            "time: 450 µs (started: 2024-09-17 04:48:23 +00:00)\n"
          ]
        }
      ]
    },
    {
      "cell_type": "code",
      "source": [
        "pl.sql(query).collect()"
      ],
      "metadata": {
        "colab": {
          "base_uri": "https://localhost:8080/",
          "height": 461
        },
        "id": "j3NdZCwgrxvP",
        "outputId": "aa1afb9b-2729-478b-8354-b0b90de89977"
      },
      "execution_count": 43,
      "outputs": [
        {
          "output_type": "execute_result",
          "data": {
            "text/plain": [
              "shape: (50, 5)\n",
              "┌────────────────────────┬────────┬──────┬───────┬─────────────────┐\n",
              "│ Airline                ┆ Origin ┆ Dest ┆ Month ┆ total_cancelled │\n",
              "│ ---                    ┆ ---    ┆ ---  ┆ ---   ┆ ---             │\n",
              "│ str                    ┆ str    ┆ str  ┆ i64   ┆ u32             │\n",
              "╞════════════════════════╪════════╪══════╪═══════╪═════════════════╡\n",
              "│ SkyWest Airlines Inc.  ┆ ASE    ┆ DEN  ┆ 7     ┆ 62              │\n",
              "│ SkyWest Airlines Inc.  ┆ DEN    ┆ ASE  ┆ 7     ┆ 53              │\n",
              "│ Comair Inc.            ┆ CLT    ┆ OAJ  ┆ 9     ┆ 48              │\n",
              "│ Comair Inc.            ┆ OAJ    ┆ CLT  ┆ 9     ┆ 47              │\n",
              "│ United Air Lines Inc.  ┆ BOS    ┆ EWR  ┆ 3     ┆ 43              │\n",
              "│ …                      ┆ …      ┆ …    ┆ …     ┆ …               │\n",
              "│ Southwest Airlines Co. ┆ HOU    ┆ DAL  ┆ 8     ┆ 29              │\n",
              "│ Horizon Air            ┆ SEA    ┆ MFR  ┆ 10    ┆ 29              │\n",
              "│ American Airlines Inc. ┆ ILM    ┆ CLT  ┆ 9     ┆ 29              │\n",
              "│ Delta Air Lines Inc.   ┆ CHS    ┆ ATL  ┆ 9     ┆ 29              │\n",
              "│ Comair Inc.            ┆ CLT    ┆ FAY  ┆ 9     ┆ 28              │\n",
              "└────────────────────────┴────────┴──────┴───────┴─────────────────┘"
            ],
            "text/html": [
              "<div><style>\n",
              ".dataframe > thead > tr,\n",
              ".dataframe > tbody > tr {\n",
              "  text-align: right;\n",
              "  white-space: pre-wrap;\n",
              "}\n",
              "</style>\n",
              "<small>shape: (50, 5)</small><table border=\"1\" class=\"dataframe\"><thead><tr><th>Airline</th><th>Origin</th><th>Dest</th><th>Month</th><th>total_cancelled</th></tr><tr><td>str</td><td>str</td><td>str</td><td>i64</td><td>u32</td></tr></thead><tbody><tr><td>&quot;SkyWest Airlines Inc.&quot;</td><td>&quot;ASE&quot;</td><td>&quot;DEN&quot;</td><td>7</td><td>62</td></tr><tr><td>&quot;SkyWest Airlines Inc.&quot;</td><td>&quot;DEN&quot;</td><td>&quot;ASE&quot;</td><td>7</td><td>53</td></tr><tr><td>&quot;Comair Inc.&quot;</td><td>&quot;CLT&quot;</td><td>&quot;OAJ&quot;</td><td>9</td><td>48</td></tr><tr><td>&quot;Comair Inc.&quot;</td><td>&quot;OAJ&quot;</td><td>&quot;CLT&quot;</td><td>9</td><td>47</td></tr><tr><td>&quot;United Air Lines Inc.&quot;</td><td>&quot;BOS&quot;</td><td>&quot;EWR&quot;</td><td>3</td><td>43</td></tr><tr><td>&hellip;</td><td>&hellip;</td><td>&hellip;</td><td>&hellip;</td><td>&hellip;</td></tr><tr><td>&quot;Southwest Airlines Co.&quot;</td><td>&quot;HOU&quot;</td><td>&quot;DAL&quot;</td><td>8</td><td>29</td></tr><tr><td>&quot;Horizon Air&quot;</td><td>&quot;SEA&quot;</td><td>&quot;MFR&quot;</td><td>10</td><td>29</td></tr><tr><td>&quot;American Airlines Inc.&quot;</td><td>&quot;ILM&quot;</td><td>&quot;CLT&quot;</td><td>9</td><td>29</td></tr><tr><td>&quot;Delta Air Lines Inc.&quot;</td><td>&quot;CHS&quot;</td><td>&quot;ATL&quot;</td><td>9</td><td>29</td></tr><tr><td>&quot;Comair Inc.&quot;</td><td>&quot;CLT&quot;</td><td>&quot;FAY&quot;</td><td>9</td><td>28</td></tr></tbody></table></div>"
            ]
          },
          "metadata": {},
          "execution_count": 43
        },
        {
          "output_type": "stream",
          "name": "stdout",
          "text": [
            "time: 7.17 s (started: 2024-09-17 04:48:23 +00:00)\n"
          ]
        }
      ]
    },
    {
      "cell_type": "code",
      "source": [
        "pl.sql(query).collect(engine=gpu_engine)"
      ],
      "metadata": {
        "colab": {
          "base_uri": "https://localhost:8080/",
          "height": 461
        },
        "id": "3L0xnqXeo-cZ",
        "outputId": "f102faa2-5ddd-4322-ee34-44e1eec7489d"
      },
      "execution_count": 44,
      "outputs": [
        {
          "output_type": "execute_result",
          "data": {
            "text/plain": [
              "shape: (50, 5)\n",
              "┌────────────────────────┬────────┬──────┬───────┬─────────────────┐\n",
              "│ Airline                ┆ Origin ┆ Dest ┆ Month ┆ total_cancelled │\n",
              "│ ---                    ┆ ---    ┆ ---  ┆ ---   ┆ ---             │\n",
              "│ str                    ┆ str    ┆ str  ┆ i64   ┆ i64             │\n",
              "╞════════════════════════╪════════╪══════╪═══════╪═════════════════╡\n",
              "│ SkyWest Airlines Inc.  ┆ ASE    ┆ DEN  ┆ 7     ┆ 62              │\n",
              "│ SkyWest Airlines Inc.  ┆ DEN    ┆ ASE  ┆ 7     ┆ 53              │\n",
              "│ Comair Inc.            ┆ CLT    ┆ OAJ  ┆ 9     ┆ 48              │\n",
              "│ Comair Inc.            ┆ OAJ    ┆ CLT  ┆ 9     ┆ 47              │\n",
              "│ United Air Lines Inc.  ┆ BOS    ┆ EWR  ┆ 3     ┆ 43              │\n",
              "│ …                      ┆ …      ┆ …    ┆ …     ┆ …               │\n",
              "│ Southwest Airlines Co. ┆ HOU    ┆ DAL  ┆ 8     ┆ 29              │\n",
              "│ Delta Air Lines Inc.   ┆ CHS    ┆ ATL  ┆ 9     ┆ 29              │\n",
              "│ Comair Inc.            ┆ FAY    ┆ CLT  ┆ 9     ┆ 29              │\n",
              "│ American Airlines Inc. ┆ ILM    ┆ CLT  ┆ 9     ┆ 29              │\n",
              "│ Republic Airlines      ┆ LGA    ┆ BOS  ┆ 1     ┆ 28              │\n",
              "└────────────────────────┴────────┴──────┴───────┴─────────────────┘"
            ],
            "text/html": [
              "<div><style>\n",
              ".dataframe > thead > tr,\n",
              ".dataframe > tbody > tr {\n",
              "  text-align: right;\n",
              "  white-space: pre-wrap;\n",
              "}\n",
              "</style>\n",
              "<small>shape: (50, 5)</small><table border=\"1\" class=\"dataframe\"><thead><tr><th>Airline</th><th>Origin</th><th>Dest</th><th>Month</th><th>total_cancelled</th></tr><tr><td>str</td><td>str</td><td>str</td><td>i64</td><td>i64</td></tr></thead><tbody><tr><td>&quot;SkyWest Airlines Inc.&quot;</td><td>&quot;ASE&quot;</td><td>&quot;DEN&quot;</td><td>7</td><td>62</td></tr><tr><td>&quot;SkyWest Airlines Inc.&quot;</td><td>&quot;DEN&quot;</td><td>&quot;ASE&quot;</td><td>7</td><td>53</td></tr><tr><td>&quot;Comair Inc.&quot;</td><td>&quot;CLT&quot;</td><td>&quot;OAJ&quot;</td><td>9</td><td>48</td></tr><tr><td>&quot;Comair Inc.&quot;</td><td>&quot;OAJ&quot;</td><td>&quot;CLT&quot;</td><td>9</td><td>47</td></tr><tr><td>&quot;United Air Lines Inc.&quot;</td><td>&quot;BOS&quot;</td><td>&quot;EWR&quot;</td><td>3</td><td>43</td></tr><tr><td>&hellip;</td><td>&hellip;</td><td>&hellip;</td><td>&hellip;</td><td>&hellip;</td></tr><tr><td>&quot;Southwest Airlines Co.&quot;</td><td>&quot;HOU&quot;</td><td>&quot;DAL&quot;</td><td>8</td><td>29</td></tr><tr><td>&quot;Delta Air Lines Inc.&quot;</td><td>&quot;CHS&quot;</td><td>&quot;ATL&quot;</td><td>9</td><td>29</td></tr><tr><td>&quot;Comair Inc.&quot;</td><td>&quot;FAY&quot;</td><td>&quot;CLT&quot;</td><td>9</td><td>29</td></tr><tr><td>&quot;American Airlines Inc.&quot;</td><td>&quot;ILM&quot;</td><td>&quot;CLT&quot;</td><td>9</td><td>29</td></tr><tr><td>&quot;Republic Airlines&quot;</td><td>&quot;LGA&quot;</td><td>&quot;BOS&quot;</td><td>1</td><td>28</td></tr></tbody></table></div>"
            ]
          },
          "metadata": {},
          "execution_count": 44
        },
        {
          "output_type": "stream",
          "name": "stdout",
          "text": [
            "time: 1.68 s (started: 2024-09-17 04:48:31 +00:00)\n"
          ]
        }
      ]
    },
    {
      "cell_type": "code",
      "source": [],
      "metadata": {
        "id": "H70OkJf3zV3I"
      },
      "execution_count": null,
      "outputs": []
    }
  ]
}